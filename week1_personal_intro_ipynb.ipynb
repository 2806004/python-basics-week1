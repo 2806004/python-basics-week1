{
  "nbformat": 4,
  "nbformat_minor": 0,
  "metadata": {
    "colab": {
      "provenance": []
    },
    "kernelspec": {
      "name": "python3",
      "display_name": "Python 3"
    },
    "language_info": {
      "name": "python"
    }
  },
  "cells": [
    {
      "cell_type": "markdown",
      "source": [
        "Personal Introduction Program"
      ],
      "metadata": {
        "id": "XB7w49u2S1iI"
      }
    },
    {
      "cell_type": "code",
      "execution_count": 2,
      "metadata": {
        "colab": {
          "base_uri": "https://localhost:8080/"
        },
        "id": "EZAIzkXUR7Gw",
        "outputId": "cc64d206-14c9-47dc-af1a-fe1b72a033a3"
      },
      "outputs": [
        {
          "output_type": "stream",
          "name": "stdout",
          "text": [
            "Enter your name:DHANUSH\n",
            "Enter your age:21\n",
            "Enter your hobby:CRICKET\\\n",
            "hello DHANUSH! you are 21 and your CRICKET\\\n"
          ]
        }
      ],
      "source": [
        "name=input(\"Enter your name:\")\n",
        "age=int(input(\"Enter your age:\"))\n",
        "hobby=input(\"Enter your hobby:\")\n",
        "print (f\"hello {name}! you are {age} and your {hobby}\")"
      ]
    }
  ]
}